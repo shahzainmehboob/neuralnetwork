{
 "cells": [
  {
   "cell_type": "markdown",
   "metadata": {},
   "source": [
    "# NNIA 18/19 Project 1:  PCA and & (Multiple) Linear Regression "
   ]
  },
  {
   "cell_type": "markdown",
   "metadata": {},
   "source": [
    "## Deadline: 07. December 2018, 23:59"
   ]
  },
  {
   "cell_type": "markdown",
   "metadata": {},
   "source": [
    "**Important:** For all implementations in this project, make sure to use NumPy whenever possible. Most computations on vectors and matrices can be implemented very efficiently using the NumPy API. There is no need for looping over vectors etc. As a simple example, in order to compute the mean of a vector, just use `numpy.mean()`. If you are not familiar with NumPy please consult the NumPy tutorial that you find in the CMS under *Materials*. Further, in case of any doubts, the Forum is the best place to ask questions and discuss the project.  "
   ]
  },
  {
   "cell_type": "code",
   "execution_count": 7,
   "metadata": {},
   "outputs": [],
   "source": [
    "import itertools\n",
    "import numpy as np\n",
    "import pandas as pd\n",
    "import matplotlib.pyplot as plt\n",
    "%matplotlib inline"
   ]
  },
  {
   "cell_type": "markdown",
   "metadata": {},
   "source": [
    "---"
   ]
  },
  {
   "cell_type": "markdown",
   "metadata": {},
   "source": [
    "## 1. Principal Component Analysis $~$ (15.0 points)\n",
    "\n",
    "Features are our friends for prediction. For example, knowing the weight of a person is helpful for predicting his/her height. Knowing both the weight and age may improve the accuracy of our prediction. However, too many features could harm: each feature can be thought of as a dimension, $n$ features correspond to a $n$ dimensional space. In a high dimensional space ($n$ is very large), our data will distribute sparsely: if you draw unit grids in the space, the most of them will contain no data, which obstructs the learning process. This is called the *curse of dimensionality* (for more detail about the curse of dimensionality, see [here](http://www.visiondummy.com/2014/04/curse-dimensionality-affect-classification/)).\n",
    "\n",
    "\n",
    "To overcome the curse of dimensionality, we simply reduce the dimensionality (i.e. reduce the number of features). We can either select a subset of all features, or we can apply PCA on our dataset. By specifying a $d$ ($d$<$n$), PCA will project our $n$ dimensional data onto a $d$ dimensional (affine) space. The assumption is that classification/regression should be easier in this $d$ dimensional space.\n",
    "\n",
    "A tutorial of PCA can be found here: [PCA Tutorial](http://www.iro.umontreal.ca/~pift6080/H09/documents/papers/pca_tutorial.pdf) \n",
    "\n",
    "The goal of this exercise is to apply PCA on a small dataset: [The Digits Dataset](https://scikit-learn.org/stable/modules/generated/sklearn.datasets.load_digits.html#sklearn.datasets.load_digits) "
   ]
  },
  {
   "cell_type": "markdown",
   "metadata": {},
   "source": [
    "#### 1.1. Data Normalization\n",
    "Before applying PCA to our data, we first need to center the features by subtracting the mean of each feature. That is, given a design matrix $X \\in \\mathbb{R}^{n \\times d}$ ($n$ samples, each with $d$ dimensional features), we apply the following formula:\n",
    "\n",
    "\\begin{equation*}\n",
    "  \\hat{x_{ij}} = x_{ij} - \\mu(x_i) \\textrm{ for } i = 1,\\cdots, d, j = 1,\\cdots,n\n",
    "\\end{equation*}\n",
    "\n",
    "where $\\mu(x_i)$ is the mean of the $i$-th column of $X$.\n",
    "\n",
    "**Question 1:** Is this centering step important regarding the performance of the PCA? What might happen if we don't center our data? (1 point)"
   ]
  },
  {
   "cell_type": "markdown",
   "metadata": {},
   "source": [
    "*Answer:* Computing the covariance matrix implicitly performs centering, and since variance by definition, is the average squared deviation from the mean, centered and non-centered data will have identical covariance matrices (basically, we get covaiance matrix and from there eigen-decomposition). In this case, centering does not make any difference.\n",
    "However, in some cases, centering data might help to get rid of the intercept in regression. Overall it means following: centering data does not alter the slope of regression line, but untercept becomes zero.\n",
    "In the other case not centering data will lead to the situation when the first principal component may pierce the cloud not along the main direction of the cloud, and will be (for statistics purposes) misleading.\n"
   ]
  },
  {
   "cell_type": "markdown",
   "metadata": {},
   "source": [
    "---\n",
    "**Points:** $0.0$ of $1.0$\n",
    "**Comments:** None\n",
    "\n",
    "---"
   ]
  },
  {
   "cell_type": "markdown",
   "metadata": {},
   "source": [
    "**Task 1:** Implement the following function which performs data normalization (i.e. normalize the columns of $X$) according to the description above. (1 point)"
   ]
  },
  {
   "cell_type": "code",
   "execution_count": 1,
   "metadata": {},
   "outputs": [],
   "source": [
    "def data_normalization(data):\n",
    "    # TODO: implement\n",
    "    meanVal = np.mean(data_matrix,axis=0) #mean by column\n",
    "    data_normalized=data_matrix-meanVal\n",
    "    \n",
    "    return data_normalized"
   ]
  },
  {
   "cell_type": "markdown",
   "metadata": {},
   "source": [
    "---\n",
    "**Points:** $0.0$ of $1.0$\n",
    "**Comments:** None\n",
    "\n",
    "---"
   ]
  },
  {
   "cell_type": "markdown",
   "metadata": {},
   "source": [
    "#### 1.2  Apply PCA on Digits Dataset\n",
    "In the following we will apply PCA on the digits dataset from sklearn. This dataset consists of 1797 images of size 8X8, each images contain a handwritten digit (0-9).\n",
    "The digits look as follows:\n",
    "![Image of digits](https://scikit-learn.org/stable/_images/sphx_glr_plot_digits_classification_001.png)"
   ]
  },
  {
   "cell_type": "code",
   "execution_count": 5,
   "metadata": {},
   "outputs": [],
   "source": [
    "# import the digits dataset\n",
    "from sklearn import datasets"
   ]
  },
  {
   "cell_type": "code",
   "execution_count": 9,
   "metadata": {},
   "outputs": [],
   "source": [
    "# perform data normalization\n",
    "data_matrix = datasets.load_digits().data\n",
    "targets = datasets.load_digits().target\n",
    "data_normalized = data_normalization(data_matrix)"
   ]
  },
  {
   "cell_type": "markdown",
   "metadata": {},
   "source": [
    "Before applying PCA, let's take a look on a subset of original features and analyse whether they are discriminative for digits classification.\n",
    "\n",
    "**Task 2:** Implement the following using matplotlib: (2 points)\n",
    "1. Construct a 2D scatter plot. Plot the value of feature 0 (on $x$ axis) and feature 2 (on $y$ axis) for each data point, use different colors indicating different classes. \n",
    "2. Set corresponding labels: assign label \"feature 0\" for $x$ axis and \"feature 2\" for $y$ axis.\n",
    "3. Set the title of the plot as \"A subset of original features\".\n",
    "4. Show legends for each class.\n",
    "5. After you have finished the first four steps and plotted the graph, you might observe that many data points overlap. This is because many data points have exactly the same value w.r.t. feature 0 and feature 2. In order to have a better visualization, please jitter the data points in your scatter plot, this step is called jittering. For more details about jittering, see [here](https://stats.stackexchange.com/questions/253009/why-jitter-continuous-value-in-a-scatterplot).\n",
    "\n"
   ]
  },
  {
   "cell_type": "code",
   "execution_count": 10,
   "metadata": {},
   "outputs": [
    {
     "name": "stderr",
     "output_type": "stream",
     "text": [
      "No handles with labels found to put in legend.\n"
     ]
    },
    {
     "data": {
      "text/plain": [
       "<matplotlib.legend.Legend at 0x11504a5f8>"
      ]
     },
     "execution_count": 10,
     "metadata": {},
     "output_type": "execute_result"
    },
    {
     "data": {
      "image/png": "[encoded data removed]",
      "text/plain": [
       "<Figure size 432x288 with 1 Axes>"
      ]
     },
     "metadata": {
      "needs_background": "light"
     },
     "output_type": "display_data"
    }
   ],
   "source": [
    "# TODO: Construct a 2D scatter plot\n",
    "x = data_normalized[:,0] \n",
    "y = data_normalized[:,2]\n",
    "plt.xlabel(\"0 features\")\n",
    "plt.ylabel(\"2 features\")\n",
    "\n",
    "plt.scatter(x,y,c=targets)\n",
    "plt.title('A subset of original features')\n",
    "plt.legend(loc = 'upper right')"
   ]
  },
  {
   "cell_type": "markdown",
   "metadata": {},
   "source": [
    "---\n",
    "**Points:** $0.0$ of $2.0$\n",
    "**Comments:** None\n",
    "\n",
    "---"
   ]
  },
  {
   "cell_type": "markdown",
   "metadata": {},
   "source": [
    "**Question 2:** What is the dimensionality of the new feature space? Is is easy to perform digit classification in this feature space? Justify your answer. (1 point)"
   ]
  },
  {
   "cell_type": "markdown",
   "metadata": {},
   "source": [
    "*Answer:* Each feature can be thought of as a \"dimension\" of the problem in the feature space. (e.g.3D feature space can be represented as following: \"The authorship of\n",
    "12 of those papers are disputed between Hamilton/Madison. Using the frequency of use for 3 words as features, we can consider each of the documents a “point” in 3D feature space\" (c) - example taknen from http://pages.cs.wisc.edu, \"feature space\" lecture. Another example would be the human face. We can describe it by combination of characteristics s.t.:\n",
    "skin color, represented as value describing the concentration of the certain pigment;\n",
    "hair color;\n",
    "distance between nose and the mouth;\n",
    "eyes color;\n",
    "distance between the eyes;\n",
    "head height and width, etc. \n",
    "In this case we can say that we can describe a human face using 7-dimensional feature vector.\n",
    "I's rather straightforward if one is using supervised classification. We can select pixels to represent patterns or land the cover features. The main problem of classification in the case of multiple feature spaces or sources has been mostly dealt with in the past by ensemble learning methods (combinations of individual classifiers). Thus, we have to train one classifier in every feature space and then combine their class predictive distributions (\"Combining feature spaces for classification\", T.Damoulas, M. A. Girolami)."
   ]
  },
  {
   "cell_type": "markdown",
   "metadata": {},
   "source": [
    "---\n",
    "**Points:** $0.0$ of $1.0$\n",
    "**Comments:** None\n",
    "\n",
    "---"
   ]
  },
  {
   "cell_type": "markdown",
   "metadata": {},
   "source": [
    "**Task 3:** Implement the function `PCA()` below. The input of this function is a normalized dataset and a parameter $d$, which specifies the output dimension (dimension of the projected space). The output should be a dataset/matrix of $\\mathbb{R}^{n \\times d}$. (Hint: `numpy.linalg.eig()` might be helpful here.) (4 points)"
   ]
  },
  {
   "cell_type": "code",
   "execution_count": 11,
   "metadata": {},
   "outputs": [],
   "source": [
    "def PCA(data, d):\n",
    "    \"\"\"\n",
    "    perform PCA on a dataset\n",
    "    :param data: input dataset with shape (n,k).\n",
    "    :param d: dimension of the output space.\n",
    "    :return: a matrix of shape (n,d). where each row represents the (PCA) projection of each data point.\n",
    "    \"\"\"\n",
    "    # TODO: implement\n",
    "    # REMARK: note the eigenvalues/eigenvectors returned by np.linalg.eig() might not be ordered. You may want to order them first. \n",
    "    \n",
    "    meanVal=np.mean(data_matrix,axis=0) #mean by column\n",
    "    \n",
    "    covMat=np.cov(data_normalized,rowvar=0)\n",
    "    \n",
    "    eigVals,eigVects=np.linalg.eig(np.mat(covMat))\n",
    "    \n",
    "    eigValIndice=np.argsort(eigVals,axis=0) \n",
    "    \n",
    "    n_eigValIndice=eigValIndice[-1:-(d+1):-1]\n",
    "    \n",
    "    n_eigVect=eigVects[:,n_eigValIndice]\n",
    "    \n",
    "    lowDDataMat=data_normalized*n_eigVect\n",
    "    \n",
    "    reconMat=(lowDDataMat*n_eigVect.T)+meanVal\n",
    "    \n",
    "    return lowDDataMat,reconMat"
   ]
  },
  {
   "cell_type": "markdown",
   "metadata": {},
   "source": [
    "---\n",
    "**Points:** $0.0$ of $4.0$\n",
    "**Comments:** None\n",
    "\n",
    "---"
   ]
  },
  {
   "cell_type": "markdown",
   "metadata": {},
   "source": [
    "**Task 4:** Apply `PCA()` on the normalized dataset using $d=2$, then construct a 2D scatter plot presenting the data points in the projected space. (2 points)\n",
    "\n",
    "Requirements for the 2D scatter plot:\n",
    "1. Plot the value of the first principle components (on $x$ axis) and the second principle components (on $y$ axis) of each data point, use different colors for each class. \n",
    "2. Set corresponding labels: assign label \"first principle component\" for $x$ axis and \"second principle component\" for $y$ axis.\n",
    "3. Set the title of the plot as \"2 component PCA\".\n",
    "4. Add legends for each class.\n"
   ]
  },
  {
   "cell_type": "code",
   "execution_count": 12,
   "metadata": {},
   "outputs": [],
   "source": [
    "# TODO: perform PCA on mean centered dataset\n",
    "d=2\n",
    "data=data_normalized\n",
    "pca=PCA(data,d)\n",
    "lowDDataMat,reconMat=pca"
   ]
  },
  {
   "cell_type": "code",
   "execution_count": 13,
   "metadata": {
    "scrolled": true
   },
   "outputs": [
    {
     "name": "stderr",
     "output_type": "stream",
     "text": [
      "No handles with labels found to put in legend.\n"
     ]
    },
    {
     "data": {
      "text/plain": [
       "Text(0.5, 1.0, '2 component PCA')"
      ]
     },
     "execution_count": 13,
     "metadata": {},
     "output_type": "execute_result"
    },
    {
     "data": {
      "image/png": "[encoded data removed]",
      "text/plain": [
       "<Figure size 432x288 with 1 Axes>"
      ]
     },
     "metadata": {
      "needs_background": "light"
     },
     "output_type": "display_data"
    }
   ],
   "source": [
    "# TODO: Construct a 2D scatter plot\n",
    "x1=reconMat[:,0]\n",
    "y1=reconMat[:,1]\n",
    "plt.xlabel(\"First principle component\")\n",
    "plt.ylabel(\"Second principle component\")\n",
    "plt.scatter(x1.tolist(),y1.tolist(),marker='o',color='red',s=100)\n",
    "plt.legend(loc = 'upper right')\n",
    "plt.title('2 component PCA')"
   ]
  },
  {
   "cell_type": "markdown",
   "metadata": {},
   "source": [
    "---\n",
    "**Points:** $0.0$ of $2.0$\n",
    "**Comments:** None\n",
    "\n",
    "---"
   ]
  },
  {
   "cell_type": "markdown",
   "metadata": {},
   "source": [
    "**Question 3:** Is it easier to perform classification on the transformed space? Justify your answer. (1 point)"
   ]
  },
  {
   "cell_type": "markdown",
   "metadata": {},
   "source": [
    "*Answer:* It is not easier. The general idea of is to transform the non-linear separable input data into another (high-dimensional) space. Linear decision boundary can separate positive and negative examples in the transformed space. So the problem might occur when we have complex high-dimensional data, sinc it's difficult to figure out its structure and to come up with simple linearizatin mapping. Hence, it's important to have a classifier which was trained on transformed data."
   ]
  },
  {
   "cell_type": "markdown",
   "metadata": {},
   "source": [
    "---\n",
    "**Points:** $0.0$ of $1.0$\n",
    "**Comments:** None\n",
    "\n",
    "---"
   ]
  },
  {
   "cell_type": "markdown",
   "metadata": {},
   "source": [
    "**Question 4:** Now, modify the function  `data_normalization()` you implemented above: in additional to centering, divide each feature/column by its standard deviation. Then apply `PCA()` on this standardized data. Does the performance of PCA improve? Describe your findings (instead of modifying the original function you implemented above, please implement it again in the cell below). (2 points)\n",
    "\n",
    "***Remark:*** One problem could occur when you divide the feature by its standard deviation: the standard deviation might be zero and division by zero is undefined. However, a standard deviation of zero can only be possible when all the values of a feature/column are the same (all equal to the mean). In this case, those features have no discriminative power so they can be removed from the analysis. Your implementation should be able to handle this case: all columns with zero standard deviation should be removed before standardize the data."
   ]
  },
  {
   "cell_type": "code",
   "execution_count": 16,
   "metadata": {},
   "outputs": [],
   "source": [
    "def data_normalization_modified(data):\n",
    "    # TODO: implement\n",
    "    data_transpose = data.T \n",
    "    df = pd.DataFrame(data_transpose)                                         \n",
    "    \n",
    "    # Check for equally valued columns\n",
    "    col_mat = np.invert(np.all(data == data[0,:], axis = 0)) \n",
    "    indices = col_mat.tolist()\n",
    "    df = df.loc[indices, :]                                   \n",
    "    data_new = df.as_matrix()                                     \n",
    "    \n",
    "    normalized_data = data_normalization(data_new.T)                      \n",
    "    normalized_data_transpose = normalized_data.T                                   \n",
    "    std = np.std(normalized_data_transpose, axis=1)[:,None]                           \n",
    "    new_data_normalized = norma / std \n",
    "    \n",
    "    return new_data_normalized\n"
   ]
  },
  {
   "cell_type": "markdown",
   "metadata": {},
   "source": [
    "*Answer:* In general, standartizatin process made the data less scaterred and easier in terms of distinguishing classes for each feature variance (since it becomes 1).\n"
   ]
  },
  {
   "cell_type": "markdown",
   "metadata": {},
   "source": [
    "---\n",
    "**Points:** $0.0$ of $1.0$\n",
    "**Comments:** None\n",
    "\n",
    "---"
   ]
  },
  {
   "cell_type": "markdown",
   "metadata": {},
   "source": [
    "Finally, consider and the following (artificially generated) dataset:"
   ]
  },
  {
   "cell_type": "code",
   "execution_count": 17,
   "metadata": {},
   "outputs": [
    {
     "data": {
      "image/png": "[encoded data removed]",
      "text/plain": [
       "<Figure size 504x504 with 1 Axes>"
      ]
     },
     "metadata": {
      "needs_background": "light"
     },
     "output_type": "display_data"
    }
   ],
   "source": [
    "x = np.random.normal(loc=0.0, scale=2.0, size=100)\n",
    "y = np.random.binomial(1, 0.5, size=100) - 0.5\n",
    "\n",
    "fig = plt.figure(figsize = (7, 7))\n",
    "ax = fig.add_subplot(1,1,1) \n",
    "ax.set_xlabel('feature 0', fontsize = 15)\n",
    "ax.set_ylabel('feature 1', fontsize = 15)\n",
    "ax.scatter(x,y,s = 10);"
   ]
  },
  {
   "cell_type": "markdown",
   "metadata": {},
   "source": [
    "**Question 5:** Is PCA suitable for the above dataset? Justify your answer. (1 point)"
   ]
  },
  {
   "cell_type": "markdown",
   "metadata": {},
   "source": [
    "*Answer:* PCA is by all means applicable, but not quite suitable to the given dataset in terms of classification. Of course, this classificationwill reduce the dimension, but having non-correlated features will make it unsuitable."
   ]
  },
  {
   "cell_type": "markdown",
   "metadata": {},
   "source": [
    "---\n",
    "**Points:** $0.0$ of $1.0$\n",
    "**Comments:** None\n",
    "\n",
    "---"
   ]
  },
  {
   "cell_type": "markdown",
   "metadata": {},
   "source": [
    "## Multiple Linear Regression (15.0 points)\n",
    "\n",
    "In this exercise we will deal with *multiple linear regression*. Performing regression on one independent (or explanatory) variable and a scalar dependent variable is called **simple linear regression**.\n",
    "But, when there are more than one explanatory variable (i.e. $x^{(1)}, x^{(2)}, ...,x^{(k)}$), and a single scalar dependent variable (*y*), then it's called **multiple linear regression**. (Please don't confuse this with *multivariate linear regression* where we predict more than one (correlated) dependent variable.)\n",
    "\n",
    "Here, we will implement a **multiple linear regression** model in Python/NumPy using the *Gradient Descent* algorithm. Particularly, we will be using **stochastic gradient descent** (*SGD*) where one performs the update step using a small set of training samples of size *batch_size* which we will set to 64, i.e. we go through the training samples sampling 64 at a time and perform gradient descent. Such a procedure is sometimes called **mini-batch gradient descent** in the deep learning community.\n",
    "\n",
    "Going through all the training samples *once* is called an **epoch**. Ideally, the algorithm has to go through multiple epochs over the training samples, each time shuffling it, until a convergence criterion has been satisfied.\n",
    "\n",
    "Here, we will set a *tolerance value* for the difference in error (i.e. change in mean squared error (MSE) values between subsequent epochs) that we will accept. Once this difference falls below the *tolerance value*, we terminate our training phase and return the parameters. \n",
    "\n",
    "We repeat the above training procedure for all possible hyperparameter combinations in order to find the best parameters (i.e. weights) for our model. For this so called *hyperparameter tuning* we will be using the validation data. \n",
    "\n",
    "As a next step, we will combine training data and validation data and make it as our *new training data*. We keep the test data as it is. Using the hyperparameter combination (for the least MSE) that we found above, we train the model *again* with the *new training data* and obtain the parameter (*i.e. weight vector*) after convergence according to our *tolerance value*.\n",
    "\n",
    "Phew! That will be our much desired *weight vector*. This is then used on the *test data*, which has not been seen by our algorithm so far, to make a prediction. The resulting MSE value will be the so-called [*generalization error*](https://en.wikipedia.org/wiki/Generalization_error). It is this *generalization error* that we want it to be as low as possible for *unseen data* (implies that we can achieve higher accuracy)."
   ]
  },
  {
   "cell_type": "markdown",
   "metadata": {},
   "source": [
    "#### 2.1 Dataset\n",
    "For our task, we will be using the *Wine Quality* dataset and predict the quality of white wine based on 11 features such as acidity, citric acid content, residual sugar etc. . You can take a glance of the data using functions like *data.head()*."
   ]
  },
  {
   "cell_type": "code",
   "execution_count": 18,
   "metadata": {},
   "outputs": [
    {
     "data": {
      "text/html": [
       "<div>\n",
       "<style scoped>\n",
       "    .dataframe tbody tr th:only-of-type {\n",
       "        vertical-align: middle;\n",
       "    }\n",
       "\n",
       "    .dataframe tbody tr th {\n",
       "        vertical-align: top;\n",
       "    }\n",
       "\n",
       "    .dataframe thead th {\n",
       "        text-align: right;\n",
       "    }\n",
       "</style>\n",
       "<table border=\"1\" class=\"dataframe\">\n",
       "  <thead>\n",
       "    <tr style=\"text-align: right;\">\n",
       "      <th></th>\n",
       "      <th>fixed acidity</th>\n",
       "      <th>volatile acidity</th>\n",
       "      <th>citric acid</th>\n",
       "      <th>residual sugar</th>\n",
       "      <th>chlorides</th>\n",
       "      <th>free sulfur dioxide</th>\n",
       "      <th>total sulfur dioxide</th>\n",
       "      <th>density</th>\n",
       "      <th>pH</th>\n",
       "      <th>sulphates</th>\n",
       "      <th>alcohol</th>\n",
       "      <th>quality</th>\n",
       "    </tr>\n",
       "  </thead>\n",
       "  <tbody>\n",
       "    <tr>\n",
       "      <th>0</th>\n",
       "      <td>7.0</td>\n",
       "      <td>0.27</td>\n",
       "      <td>0.36</td>\n",
       "      <td>20.7</td>\n",
       "      <td>0.045</td>\n",
       "      <td>45.0</td>\n",
       "      <td>170.0</td>\n",
       "      <td>1.0010</td>\n",
       "      <td>3.00</td>\n",
       "      <td>0.45</td>\n",
       "      <td>8.8</td>\n",
       "      <td>6</td>\n",
       "    </tr>\n",
       "    <tr>\n",
       "      <th>1</th>\n",
       "      <td>6.3</td>\n",
       "      <td>0.30</td>\n",
       "      <td>0.34</td>\n",
       "      <td>1.6</td>\n",
       "      <td>0.049</td>\n",
       "      <td>14.0</td>\n",
       "      <td>132.0</td>\n",
       "      <td>0.9940</td>\n",
       "      <td>3.30</td>\n",
       "      <td>0.49</td>\n",
       "      <td>9.5</td>\n",
       "      <td>6</td>\n",
       "    </tr>\n",
       "    <tr>\n",
       "      <th>2</th>\n",
       "      <td>8.1</td>\n",
       "      <td>0.28</td>\n",
       "      <td>0.40</td>\n",
       "      <td>6.9</td>\n",
       "      <td>0.050</td>\n",
       "      <td>30.0</td>\n",
       "      <td>97.0</td>\n",
       "      <td>0.9951</td>\n",
       "      <td>3.26</td>\n",
       "      <td>0.44</td>\n",
       "      <td>10.1</td>\n",
       "      <td>6</td>\n",
       "    </tr>\n",
       "    <tr>\n",
       "      <th>3</th>\n",
       "      <td>7.2</td>\n",
       "      <td>0.23</td>\n",
       "      <td>0.32</td>\n",
       "      <td>8.5</td>\n",
       "      <td>0.058</td>\n",
       "      <td>47.0</td>\n",
       "      <td>186.0</td>\n",
       "      <td>0.9956</td>\n",
       "      <td>3.19</td>\n",
       "      <td>0.40</td>\n",
       "      <td>9.9</td>\n",
       "      <td>6</td>\n",
       "    </tr>\n",
       "    <tr>\n",
       "      <th>4</th>\n",
       "      <td>7.2</td>\n",
       "      <td>0.23</td>\n",
       "      <td>0.32</td>\n",
       "      <td>8.5</td>\n",
       "      <td>0.058</td>\n",
       "      <td>47.0</td>\n",
       "      <td>186.0</td>\n",
       "      <td>0.9956</td>\n",
       "      <td>3.19</td>\n",
       "      <td>0.40</td>\n",
       "      <td>9.9</td>\n",
       "      <td>6</td>\n",
       "    </tr>\n",
       "  </tbody>\n",
       "</table>\n",
       "</div>"
      ],
      "text/plain": [
       "   fixed acidity  volatile acidity  citric acid  residual sugar  chlorides  \\\n",
       "0            7.0              0.27         0.36            20.7      0.045   \n",
       "1            6.3              0.30         0.34             1.6      0.049   \n",
       "2            8.1              0.28         0.40             6.9      0.050   \n",
       "3            7.2              0.23         0.32             8.5      0.058   \n",
       "4            7.2              0.23         0.32             8.5      0.058   \n",
       "\n",
       "   free sulfur dioxide  total sulfur dioxide  density    pH  sulphates  \\\n",
       "0                 45.0                 170.0   1.0010  3.00       0.45   \n",
       "1                 14.0                 132.0   0.9940  3.30       0.49   \n",
       "2                 30.0                  97.0   0.9951  3.26       0.44   \n",
       "3                 47.0                 186.0   0.9956  3.19       0.40   \n",
       "4                 47.0                 186.0   0.9956  3.19       0.40   \n",
       "\n",
       "   alcohol  quality  \n",
       "0      8.8        6  \n",
       "1      9.5        6  \n",
       "2     10.1        6  \n",
       "3      9.9        6  \n",
       "4      9.9        6  "
      ]
     },
     "metadata": {},
     "output_type": "display_data"
    },
    {
     "name": "stdout",
     "output_type": "stream",
     "text": [
      "(4898, 12)\n"
     ]
    }
   ],
   "source": [
    "# get data\n",
    "data_url = 'http://mlr.cs.umass.edu/ml/machine-learning-databases/wine-quality/winequality-white.csv'\n",
    "data = pd.read_csv(data_url, sep=';')\n",
    "\n",
    "# inspect data\n",
    "display(data.head())\n",
    "print(data.shape)"
   ]
  },
  {
   "cell_type": "markdown",
   "metadata": {},
   "source": [
    "#### 2.2. Loss function\n",
    "We will use a *regularized* form of the MSE loss function. In matrix form it can be written as follows:\n",
    "\n",
    "\\begin{equation*}\n",
    "    J(\\textbf{w}) = \\frac{1}{2} \\Vert{X\\textbf{w}-\\textbf{y}}\\Vert^{2} + \\frac{\\lambda}{2}\\Vert{\\textbf{w}}\\Vert^{2}\n",
    "\\end{equation*}\n",
    "\n",
    "It's important to note that, in the above equation, $X$, called **design matrix**, consists of data points in our dataset. Each row corresponds to a data point, each column correspondings to a feature. Therefore, the dimension of $X$ is *(number of data points, number of features)*. $X$ can be also thought as of the horizontal concatenation of shape *(batch_size, num_features)*. To make things easier, you can add the *bias* term as the first column of $X$. Take care to have the *weight* vector $\\textbf{w}$ with matching dimensions. (Hint: see [Design_matrix#Multiple_regression](https://en.wikipedia.org/wiki/Design_matrix#Multiple_regression) for how $X$ with 2 features looks like for $1^{st}$ degree polynomial.)"
   ]
  },
  {
   "cell_type": "markdown",
   "metadata": {},
   "source": [
    "**Task 5:** Derive the gradient (w.r.t $\\textbf{w}$) for the regularized loss function given in 2.2. (1 point)"
   ]
  },
  {
   "cell_type": "markdown",
   "metadata": {},
   "source": [
    "*Answer:* \n"
   ]
  },
  {
   "cell_type": "markdown",
   "metadata": {},
   "source": [
    "---\n",
    "**Points:** $0.0$ of $1.0$\n",
    "**Comments:** None\n",
    "\n",
    "---"
   ]
  },
  {
   "cell_type": "markdown",
   "metadata": {},
   "source": [
    "#### 2.3. Matrix format for higher order polynomial\n",
    "\n",
    "Written in matrix form, a linear regression model for second order would look like: <br />\n",
    "$$\\hat{\\textbf{y}} = X\\textbf{w}_{1} + X^{2}\\textbf{w}_{2} + \\textbf{b}$$\n",
    "\n",
    "where $X^{2}$ is the element-wise squaring of the original design matrix $X$, $\\textbf{w}_1$ and $\\textbf{w}_2$ are the *weight* vectors, and **b** is the *bias* vector.\n",
    "\n",
    "**Task 6:** Please write down the matrix format for a $9^{th}$ order linear regression model. (0.5 point)"
   ]
  },
  {
   "cell_type": "markdown",
   "metadata": {},
   "source": [
    "*Answer:* "
   ]
  },
  {
   "cell_type": "markdown",
   "metadata": {},
   "source": [
    "---\n",
    "**Points:** $0.0$ of $0.5$\n",
    "**Comments:** None\n",
    "\n",
    "---"
   ]
  },
  {
   "cell_type": "markdown",
   "metadata": {},
   "source": [
    "#### 2.4. Hyperparameters\n",
    "Next, we will experiment with three hyperparameters:\n",
    "\n",
    "i) regularization parameter $\\lambda$ <br />\n",
    "ii) learning rate $\\epsilon$ <br />\n",
    "iii) order of polynomial *p*\n",
    "\n",
    "And do a grid search over the values that these hyperparameters can take in order to select the best combination (i.e. the one that achieves lowest test error). This approach is called **hyperparameter optimization or tuning**."
   ]
  },
  {
   "cell_type": "code",
   "execution_count": 19,
   "metadata": {},
   "outputs": [],
   "source": [
    "# Fix possible hyperparameters\n",
    "polynomial_orders = [1, 5, 9]\n",
    "learning_rates = [1e-5, 1e-8]\n",
    "lambdas = [0.1, 0.8]\n",
    "\n",
    "# Fix batch size\n",
    "batch_size = 64\n",
    "\n",
    "# Get data as NumPy array\n",
    "data_np = data.values"
   ]
  },
  {
   "cell_type": "markdown",
   "metadata": {},
   "source": [
    "#### 2.5. Normalization\n",
    "First of all, inspect the data, and understand its structure and features. Ideally, before starting to train our learning algorithm, we would want the data to be normalized. Here, we normalize the data (i.e. normalize each column) using the formula:\n",
    "\n",
    "\\begin{equation*}\n",
    "  norm\\_x_i = \\frac{x_i - min(x)}{max(x) - min(x)}\n",
    "\\end{equation*}\n",
    "where $x_i$ is the $i^{th}$ sample in feature $x$. Note that this formula is different to the formula in the PCA part.\n",
    "\n",
    "**Task 7:** Complete the following function which performs normalization (i.e. normalizes columns of $X$). (1 point)"
   ]
  },
  {
   "cell_type": "code",
   "execution_count": 20,
   "metadata": {},
   "outputs": [
    {
     "name": "stdout",
     "output_type": "stream",
     "text": [
      "[[ 1.00000000e+00  6.63461538e+00  1.91568627e-01  3.60000000e-01\n",
      "   2.06907975e+01  1.82937685e-02  4.49930314e+01  1.69979118e+02\n",
      "  -1.80294608e+01  5.27272727e-01  1.94186047e-01  7.50967742e+00\n",
      "   5.50000000e+00]\n",
      " [ 1.00000000e+00  5.93461538e+00  2.21568627e-01  3.40000000e-01\n",
      "   1.59079755e+00  2.22937685e-02  1.39930314e+01  1.31979118e+02\n",
      "  -1.80364608e+01  8.27272727e-01  2.34186047e-01  8.20967742e+00\n",
      "   5.50000000e+00]\n",
      " [ 1.00000000e+00  7.73461538e+00  2.01568627e-01  4.00000000e-01\n",
      "   6.89079755e+00  2.32937685e-02  2.99930314e+01  9.69791183e+01\n",
      "  -1.80353608e+01  7.87272727e-01  1.84186047e-01  8.80967742e+00\n",
      "   5.50000000e+00]\n",
      " [ 1.00000000e+00  6.83461538e+00  1.51568627e-01  3.20000000e-01\n",
      "   8.49079755e+00  3.12937685e-02  4.69930314e+01  1.85979118e+02\n",
      "  -1.80348608e+01  7.17272727e-01  1.44186047e-01  8.60967742e+00\n",
      "   5.50000000e+00]\n",
      " [ 1.00000000e+00  6.83461538e+00  1.51568627e-01  3.20000000e-01\n",
      "   8.49079755e+00  3.12937685e-02  4.69930314e+01  1.85979118e+02\n",
      "  -1.80348608e+01  7.17272727e-01  1.44186047e-01  8.60967742e+00\n",
      "   5.50000000e+00]]\n"
     ]
    }
   ],
   "source": [
    "def data_normalization(data):\n",
    "    \n",
    "    # TODO: implement\n",
    "    data_np = (data - np.min(data, axis=0) / (np.max(data,axis=0) - np.min(data, axis=0)))\n",
    "    return data_np\n",
    "\n",
    "# Perform data normalization\n",
    "data_np = data_normalization(data_np)\n",
    "data_np = np.hstack((np.ones((data_np.shape[0],1)), data_np)) #Added bias term in the design matrix\n",
    "print(data_np[:5, ])  # print first 5 rows"
   ]
  },
  {
   "cell_type": "markdown",
   "metadata": {},
   "source": [
    "---\n",
    "**Points:** $0.0$ of $1.0$\n",
    "**Comments:** None\n",
    "\n",
    "---"
   ]
  },
  {
   "cell_type": "markdown",
   "metadata": {},
   "source": [
    "**Question 5:** How is the normalization here different from the standardization implemented in the PCA exercise (see Question 4 in the PCA part)? (1 point)"
   ]
  },
  {
   "cell_type": "markdown",
   "metadata": {},
   "source": [
    "*Answer:* This normalization is different in following: while PCA normalization implies for every single feature the zero derivation, MLR convert data to datapoints (0-1) values.\n"
   ]
  },
  {
   "cell_type": "markdown",
   "metadata": {},
   "source": [
    "---\n",
    "**Points:** $0.0$ of $1.0$\n",
    "**Comments:** None\n",
    "\n",
    "---"
   ]
  },
  {
   "cell_type": "code",
   "execution_count": null,
   "metadata": {
    "collapsed": true
   },
   "outputs": [],
   "source": [
    "# Split the data into training, validation, and test data\n",
    "def split_data(data, n_train=3898, n_val=500, n_test=500):\n",
    "    # (in-place) shuffling of data_npr along axis 0\n",
    "    np.random.shuffle(data)\n",
    "\n",
    "    n_val = n_train + n_val\n",
    "    n_test = n_train + n_test\n",
    "    \n",
    "    X_train = data[0:n_train, 0:-1]\n",
    "    Y_train = data[0:n_train, -1]\n",
    "    \n",
    "    X_val = data[n_train:n_val, 0:-1]\n",
    "    Y_val = data[n_train:n_val, -1]\n",
    "    \n",
    "    X_test = data[n_test:, 0:-1]\n",
    "    Y_test = data[n_test:, -1]\n",
    "    \n",
    "    return [(X_train, Y_train), (X_val, Y_val), (X_test, Y_test)]\n",
    "\n",
    "\n",
    "# Shuffle only the training data along axis 0\n",
    "def shuffle_train_data(X_train, Y_train):\n",
    "    \"\"\"called after each epoch\"\"\"\n",
    "    perm = np.random.permutation(len(Y_train))\n",
    "    Xtr_shuf = X_train[perm]\n",
    "    Ytr_shuf = Y_train[perm]\n",
    "    \n",
    "    return Xtr_shuf, Ytr_shuf"
   ]
  },
  {
   "cell_type": "markdown",
   "metadata": {},
   "source": [
    "#### 2.6. Implementation of required functions\n",
    "\n",
    "**Task 8:** Complete the following function which computes the MSE value. You can ignore the regularization term and also the constants $\\frac{1}{2}$. (0.5 point)"
   ]
  },
  {
   "cell_type": "code",
   "execution_count": 21,
   "metadata": {},
   "outputs": [],
   "source": [
    "# Compute Mean Squared Error \n",
    "def compute_mse(prediction, ground_truth):\n",
    "    '''\n",
    "    :param prediction: a nx1 vector represents the prediciton of your model\n",
    "    :param ground_truth: a nx1 vector represents the ground_truth\n",
    "    :return: MSE loss\n",
    "    '''\n",
    "    # TODO: implement\n",
    "    mse = 0.0\n",
    "    mse = np.mean((ground_truth - prediction)**2)\n",
    "    return mse"
   ]
  },
  {
   "cell_type": "markdown",
   "metadata": {},
   "source": [
    "---\n",
    "**Points:** $0.0$ of $0.5$\n",
    "**Comments:** None\n",
    "\n",
    "---"
   ]
  },
  {
   "cell_type": "markdown",
   "metadata": {},
   "source": [
    "**Task 9:** Implement a function which computes the prediction of your model. (0.5 point)"
   ]
  },
  {
   "cell_type": "code",
   "execution_count": 22,
   "metadata": {},
   "outputs": [],
   "source": [
    "def get_prediction(X, W):\n",
    "    '''\n",
    "    Given a design matrix X (could be a batch) and parameters W, calculate the prediction Y.\n",
    "    :param X: desgin matrix X of dimension nxd, where n is the number of data points (in the batch).\n",
    "    :param W: parameters\n",
    "    :return: the predictions\n",
    "    '''\n",
    "    # TODO: implement\n",
    "    pred = X.dot(W)\n",
    "    \n",
    "    return pred"
   ]
  },
  {
   "cell_type": "markdown",
   "metadata": {},
   "source": [
    "---\n",
    "**Points:** $0.0$ of $0.5$\n",
    "**Comments:** None\n",
    "\n",
    "---"
   ]
  },
  {
   "cell_type": "markdown",
   "metadata": {},
   "source": [
    "**Task 10:** Implement a function which computes the gradient of your loss function. That is, implement the gradient computed in Task 5. (0.5 point)"
   ]
  },
  {
   "cell_type": "code",
   "execution_count": 23,
   "metadata": {},
   "outputs": [],
   "source": [
    "def compute_gradient(X, Y, Yhat, W, lambda_):\n",
    "    '''\n",
    "    :param X: designmatrix X\n",
    "    :param Y: ground truth labels correspoinding to X\n",
    "    :param Yhat: predicted labels\n",
    "    :param W: parameters\n",
    "    :param lambda_: coefficient for the regularizer\n",
    "    :return: gradient w.r.t W\n",
    "    '''\n",
    "    # TODO: implement\n",
    "\n",
    "    X_transpose = X.T\n",
    "    inverse = np.linalg.inv(X_transpose.dot(X) + lambda_ * np.identity(X.shape[1]))\n",
    "    grad = inverse.dot(X_transpose.dot(Y))\n",
    "\n",
    "    return grad"
   ]
  },
  {
   "cell_type": "markdown",
   "metadata": {},
   "source": [
    "---\n",
    "**Points:** $0.0$ of $0.5$\n",
    "**Comments:** None\n",
    "\n",
    "---"
   ]
  },
  {
   "cell_type": "markdown",
   "metadata": {},
   "source": [
    "**Task 11:** Implement a function which performs a single update step of SGD. (0.5 point)"
   ]
  },
  {
   "cell_type": "code",
   "execution_count": 24,
   "metadata": {},
   "outputs": [],
   "source": [
    "# Hint: avoid in-place modification\n",
    "def sgd(gradient, lr, cur_W):\n",
    "    '''\n",
    "    :param gradient: gradient at cur_W\n",
    "    :param lr: learning rate\n",
    "    :param cur_W: current value of parameters\n",
    "    :return: updated weights\n",
    "    '''\n",
    "    # TODO: implement\n",
    "    new_weights = cur_W - (lr * gradient)\n",
    "\n",
    "    return new_weights"
   ]
  },
  {
   "cell_type": "markdown",
   "metadata": {},
   "source": [
    "---\n",
    "**Points:** $0.0$ of $0.5$\n",
    "**Comments:** None\n",
    "\n",
    "---"
   ]
  },
  {
   "cell_type": "markdown",
   "metadata": {},
   "source": [
    "**Task 12:** Complete the following function which reformats your data as a design matrix. (0.5 point)"
   ]
  },
  {
   "cell_type": "code",
   "execution_count": 25,
   "metadata": {},
   "outputs": [],
   "source": [
    "# concatenate X acc. to order of polynomial; likewise do it for W\n",
    "# where X is design matrix, W is the corresponding weight vector\n",
    "# concatenate matrix X horizontally, concatenate W vertically. That is, after this transformation, X gets broader and W gets longer\n",
    "# [1 X X^2 X^3], [1 W1 W2 W3].T.\n",
    "# \n",
    "def prepare_data_matrix(X, W, order):\n",
    "    # TODO: implement\n",
    "    '''\n",
    "    :param X: design matrix X\n",
    "    :param W: weight vector W\n",
    "    :param order: order of the polynomial\n",
    "    :return: extended X and W\n",
    "    '''\n",
    "    \n",
    "    if(order == 1):\n",
    "        return X, W\n",
    "    else:\n",
    "        A, B = X, W\n",
    "        for i in range(2,order+1,1):\n",
    "            X, W = np.concatenate((X, np.power(A,i)), axis=1) , np.concatenate((W, B), axis=0)\n",
    "        return X, W"
   ]
  },
  {
   "cell_type": "markdown",
   "metadata": {},
   "source": [
    "---\n",
    "**Points:** $0.0$ of $0.5$\n",
    "**Comments:** None\n",
    "\n",
    "---"
   ]
  },
  {
   "cell_type": "markdown",
   "metadata": {},
   "source": [
    "#### 2.7. Training\n",
    "\n",
    "**Task 13:** Complete the code in the following cell such that it performs **mini-batch gradient descent** on the training data for all possible hyperparameter combinations. (5 points)\n",
    "\n",
    "Note: You can also define a function, named appropriately, which performs training. But, take care to do correct bookkeeping of hyperparameter combinations, weight vectors, and the MSE values."
   ]
  },
  {
   "cell_type": "code",
   "execution_count": null,
   "metadata": {
    "collapsed": true
   },
   "outputs": [],
   "source": [
    "# Get the data\n",
    "splits = split_data(data_np)\n",
    "X_train, Y_train, X_val, Y_val, X_test, Y_test = itertools.chain(*splits)\n",
    "\n",
    "# Set tolerance value\n",
    "tolerance = 1e-3\n",
    "start = 1\n",
    "\n",
    "# Initialize weight vector\n",
    "W_init = np.random.randn(X_train.shape[1])"
   ]
  },
  {
   "cell_type": "code",
   "execution_count": 26,
   "metadata": {},
   "outputs": [],
   "source": [
    "def train(X_train, W_init, polynomial_orders, learning_rates, lambdas):\n",
    "    # Compute all hyperparameter combination\n",
    "    comb_gen = itertools.product(*(polynomial_orders, learning_rates, lambdas))\n",
    "    hparams_comb = list(comb_gen)\n",
    "\n",
    "    # Cache weights for each hyperparam combination\n",
    "    weights_hist = {hpm:0 for hpm in hparams_comb}\n",
    "    mse_dict = {hpm:0 for hpm in hparams_comb}\n",
    "    mse_hist = []\n",
    "    mse_diff = 0\n",
    "    \n",
    "    # Find optimal hyperparameters\n",
    "    for order in polynomial_orders:\n",
    "        for lr in learning_rates:\n",
    "            for lamb in lambdas:\n",
    "                # Initialize \n",
    "                mse_hist.append(np.inf)\n",
    "                mse_diff = np.inf\n",
    "                epochs = 1\n",
    "                # TODO: Prepare data matrix\n",
    "                X_train, W = prepare_data_matrix(X_train, W_init, order)\n",
    "\n",
    "                while True:\n",
    "                    # TODO: shuffle the data\n",
    "                    Xtr_shuf, Ytr_shuf = shuffle_train_data(X_train, Y_train)\n",
    "                    iteration = 1\n",
    "                    nsamples = Xtr_shuf.shape[0]\n",
    "                    bs = 0\n",
    "                    # Perform a single epoch\n",
    "                    while bs < nsamples:\n",
    "                        Xtr = Xtr_shuf[bs: bs+batch_size]\n",
    "                        Ytr = Ytr_shuf[bs: bs+batch_size]\n",
    "                        # TODO: perform one step of gradient descent\n",
    "                        gradient = compute_gradient(Xtr, Ytr, 0, W, lamb)\n",
    "                        W = sgd(gradient, lr, W)\n",
    "\n",
    "                        bs += batch_size\n",
    "                        iteration += 1\n",
    "\n",
    "                    # TODO: perform predcition on the entire (shuffled) dataset, compute mse and append it to the mse_hist\n",
    "                    pred = get_prediction(Xtr_shuf, W)\n",
    "                    mse = compute_mse(pred, Ytr_shuf)\n",
    "                    mse_hist.append(mse)\n",
    "                    print(\"MSE after epoch {} is {}\".format(epochs, round(mse, 5)))\n",
    "\n",
    "                    #TODO: Stopping criterion: check whether diff-in-mse < tolerance\n",
    "                    mse_diff = mse_hist[-2] - mse\n",
    "                    \n",
    "                    \n",
    "                    if mse_diff < tolerance:\n",
    "                        #cache weight vector\n",
    "                        W_vec = (order, lr, lamb)\n",
    "                        weights_hist[(order, lr, lamb)] = W_vec\n",
    "                        mse_dict[(order, lr, lamb)] = mse_hist[-1]\n",
    "                        print(\"order: {} , learning rate: {} , regularizer: {} \".format(order, lr, lamb))\n",
    "                        print(\"Convergence after epoch {} with MSE {}\".format(epochs, round(mse_hist[-1], 5)), \"\\n\")\n",
    "                        break\n",
    "                    epochs += 1\n",
    "    \n",
    "    return weights_hist, mse_hist"
   ]
  },
  {
   "cell_type": "markdown",
   "metadata": {},
   "source": [
    "---\n",
    "**Points:** $0.0$ of $5.0$\n",
    "**Comments:** None\n",
    "\n",
    "---"
   ]
  },
  {
   "cell_type": "markdown",
   "metadata": {},
   "source": [
    "**Task 14:** Complete the following function which selects the best hyperparameter combination given a list of weights (i.e. the one that gives lowest MSE on **validation data**). (1 point)"
   ]
  },
  {
   "cell_type": "code",
   "execution_count": 27,
   "metadata": {},
   "outputs": [],
   "source": [
    "# Select hparams of minimum MSE on Validation data\n",
    "def select_best_hparams(X_val, W):\n",
    "    hpm_best = ()\n",
    "    mse_best = np.inf\n",
    "    \n",
    "    # TODO: Implement\n",
    "    for weight in W:\n",
    "        order, lr, lamb = weight\n",
    "        pred = get_prediction(X_val, W)\n",
    "        mse = compute_mse(pred, Y_val)\n",
    "        mse_his.append(mse)\n",
    "\n",
    "    mse_best = np.min(mse_his, axis=0)\n",
    "    \n",
    "    return hpm_best, mse_best"
   ]
  },
  {
   "cell_type": "code",
   "execution_count": 28,
   "metadata": {},
   "outputs": [
    {
     "ename": "NameError",
     "evalue": "name 'X_train' is not defined",
     "output_type": "error",
     "traceback": [
      "\u001b[0;31m---------------------------------------------------------------------------\u001b[0m",
      "\u001b[0;31mNameError\u001b[0m                                 Traceback (most recent call last)",
      "\u001b[0;32m<ipython-input-28-df93c6855d3e>\u001b[0m in \u001b[0;36m<module>\u001b[0;34m\u001b[0m\n\u001b[1;32m      1\u001b[0m \u001b[0;31m# TODO: Train the model with all possible hyperparameter combinations\u001b[0m\u001b[0;34m\u001b[0m\u001b[0;34m\u001b[0m\u001b[0m\n\u001b[0;32m----> 2\u001b[0;31m \u001b[0mW_init\u001b[0m \u001b[0;34m=\u001b[0m \u001b[0mnp\u001b[0m\u001b[0;34m.\u001b[0m\u001b[0mrandom\u001b[0m\u001b[0;34m.\u001b[0m\u001b[0mrandn\u001b[0m\u001b[0;34m(\u001b[0m\u001b[0mX_train\u001b[0m\u001b[0;34m.\u001b[0m\u001b[0mshape\u001b[0m\u001b[0;34m[\u001b[0m\u001b[0;36m1\u001b[0m\u001b[0;34m]\u001b[0m\u001b[0;34m)\u001b[0m\u001b[0;34m\u001b[0m\u001b[0m\n\u001b[0m\u001b[1;32m      3\u001b[0m \u001b[0mweights_hist\u001b[0m\u001b[0;34m,\u001b[0m \u001b[0mmse_hist\u001b[0m \u001b[0;34m=\u001b[0m \u001b[0mtrain\u001b[0m\u001b[0;34m(\u001b[0m\u001b[0mX_train\u001b[0m\u001b[0;34m,\u001b[0m \u001b[0mW_init\u001b[0m\u001b[0;34m,\u001b[0m \u001b[0mpolynomial_orders\u001b[0m\u001b[0;34m,\u001b[0m \u001b[0mlearning_rates\u001b[0m\u001b[0;34m,\u001b[0m \u001b[0mlambdas\u001b[0m\u001b[0;34m)\u001b[0m\u001b[0;34m\u001b[0m\u001b[0m\n\u001b[1;32m      4\u001b[0m \u001b[0;34m\u001b[0m\u001b[0m\n\u001b[1;32m      5\u001b[0m \u001b[0;31m# TODO: Find best hyperparameter combination\u001b[0m\u001b[0;34m\u001b[0m\u001b[0;34m\u001b[0m\u001b[0m\n",
      "\u001b[0;31mNameError\u001b[0m: name 'X_train' is not defined"
     ]
    }
   ],
   "source": [
    "# TODO: Train the model with all possible hyperparameter combinations\n",
    "W_init = np.random.randn(X_train.shape[1])\n",
    "weights_hist, mse_hist = train(X_train, W_init, polynomial_orders, learning_rates, lambdas)\n",
    "\n",
    "# TODO: Find best hyperparameter combination\n",
    "best_hpm_combination, best_mse = select_best_hparams(X_val, weights_hist)\n",
    "\n",
    "print('Best hyperamarameters (on validation data): ', best_hpm_combination)\n",
    "print('Corresponding MSE (on validation data): ', best_mse)"
   ]
  },
  {
   "cell_type": "markdown",
   "metadata": {},
   "source": [
    "---\n",
    "**Points:** $0.0$ of $1.0$\n",
    "**Comments:** None\n",
    "\n",
    "---"
   ]
  },
  {
   "cell_type": "markdown",
   "metadata": {},
   "source": [
    "#### 2.8. Re-Training on Train + Validation data\n",
    "**Task 15:** Complete the following function which does re-training on the combined training and validation data. (1 point)"
   ]
  },
  {
   "cell_type": "code",
   "execution_count": 29,
   "metadata": {},
   "outputs": [
    {
     "ename": "NameError",
     "evalue": "name 'X_train' is not defined",
     "output_type": "error",
     "traceback": [
      "\u001b[0;31m---------------------------------------------------------------------------\u001b[0m",
      "\u001b[0;31mNameError\u001b[0m                                 Traceback (most recent call last)",
      "\u001b[0;32m<ipython-input-29-87f6419de89f>\u001b[0m in \u001b[0;36m<module>\u001b[0;34m\u001b[0m\n\u001b[1;32m      3\u001b[0m \u001b[0;31m# TODO: implement\u001b[0m\u001b[0;34m\u001b[0m\u001b[0;34m\u001b[0m\u001b[0m\n\u001b[1;32m      4\u001b[0m \u001b[0;34m\u001b[0m\u001b[0m\n\u001b[0;32m----> 5\u001b[0;31m \u001b[0mX_train_comb\u001b[0m \u001b[0;34m=\u001b[0m \u001b[0mnp\u001b[0m\u001b[0;34m.\u001b[0m\u001b[0mconcatenate\u001b[0m\u001b[0;34m(\u001b[0m\u001b[0mX_train\u001b[0m\u001b[0;34m,\u001b[0m \u001b[0mX_val\u001b[0m\u001b[0;34m)\u001b[0m\u001b[0;34m\u001b[0m\u001b[0m\n\u001b[0m\u001b[1;32m      6\u001b[0m \u001b[0mY_train_comb\u001b[0m \u001b[0;34m=\u001b[0m \u001b[0mnp\u001b[0m\u001b[0;34m.\u001b[0m\u001b[0mconcatenate\u001b[0m\u001b[0;34m(\u001b[0m\u001b[0mY_train\u001b[0m\u001b[0;34m,\u001b[0m \u001b[0mY_val\u001b[0m\u001b[0;34m)\u001b[0m\u001b[0;34m\u001b[0m\u001b[0m\n\u001b[1;32m      7\u001b[0m \u001b[0;34m\u001b[0m\u001b[0m\n",
      "\u001b[0;31mNameError\u001b[0m: name 'X_train' is not defined"
     ]
    }
   ],
   "source": [
    "# Re-run the training on X_train + X_val combined\n",
    "\n",
    "# TODO: implement\n",
    "\n",
    "X_train_comb = np.concatenate(X_train, X_val)\n",
    "Y_train_comb = np.concatenate(Y_train, Y_val)\n",
    "\n",
    "# Initialize weight vector\n",
    "W_comb_init = np.random.randn(X_train_comb.shape[1])\n",
    "\n",
    "# Use already found best hparam comb\n",
    "best_order, best_lr, best_lamb = best_hpm_combination\n",
    "\n",
    "# Get data\n",
    "X_mat, W_vec = prepare_data_matrix(X_train_comb, W_comb_init, best_order)\n",
    "\n",
    "# Run training\n",
    "# TODO: implement\n",
    "weights, mse_cache = None"
   ]
  },
  {
   "cell_type": "markdown",
   "metadata": {},
   "source": [
    "---\n",
    "**Points:** $0.0$ of $1.0$\n",
    "**Comments:** None\n",
    "\n",
    "---"
   ]
  },
  {
   "cell_type": "code",
   "execution_count": null,
   "metadata": {
    "collapsed": true
   },
   "outputs": [],
   "source": [
    "# Let's plot the convergence of MSE values on the train+validation dataset using matplotlib, i.e. #epochs on X-axis and MSE values on Y-axis\n",
    "fig, axes = plt.subplots()\n",
    "axes.plot(mse_cache)\n",
    "axes.set_yscale('linear')\n",
    "axes.set_xlabel(\"epochs\")\n",
    "axes.set_ylabel(\"MSE\");"
   ]
  },
  {
   "cell_type": "markdown",
   "metadata": {},
   "source": [
    "#### 2.9. Evaluation on Test set\n",
    "**Task 16:** Evaluate your model on test data. (1 point)"
   ]
  },
  {
   "cell_type": "code",
   "execution_count": null,
   "metadata": {
    "collapsed": true
   },
   "outputs": [],
   "source": [
    "# test your model on X_test with the weight vector that you found above\n",
    "# this will be the generalization error of our model.\n",
    "\n",
    "# TODO: implement\n",
    "pred = get_prediction(X_test, W)\n",
    "mse_test = compute_mse(pred, Y_test)\n",
    "print(\"MSE achieved on test data is : {}\".format(round(mse_test, 6)))"
   ]
  },
  {
   "cell_type": "markdown",
   "metadata": {},
   "source": [
    "---\n",
    "**Points:** $0.0$ of $1.0$\n",
    "**Comments:** None\n",
    "\n",
    "---"
   ]
  },
  {
   "cell_type": "markdown",
   "metadata": {},
   "source": [
    "#### 2.10. Results\n",
    "**Task 17:** Report the MSE value on the test data. (0.5 point)"
   ]
  },
  {
   "cell_type": "markdown",
   "metadata": {},
   "source": [
    "*Answer:* \n"
   ]
  },
  {
   "cell_type": "markdown",
   "metadata": {},
   "source": [
    "---\n",
    "**Points:** $0.0$ of $0.5$\n",
    "**Comments:** None\n",
    "\n",
    "---"
   ]
  },
  {
   "cell_type": "markdown",
   "metadata": {},
   "source": [
    "**Question 6:**  Which hyperparameter combination turned out to be the best? In your understanding, why do you think such a combination turned out to be the best for this task? (0.5 point)"
   ]
  },
  {
   "cell_type": "markdown",
   "metadata": {},
   "source": [
    "*Answer:*"
   ]
  },
  {
   "cell_type": "markdown",
   "metadata": {},
   "source": [
    "---\n",
    "**Points:** $0.0$ of $0.5$\n",
    "**Comments:** None\n",
    "\n",
    "---"
   ]
  },
  {
   "cell_type": "markdown",
   "metadata": {},
   "source": [
    "## Submission instructions\n",
    "You should provide a single Jupyter notebook (.ipynb file) as the solution. Put the names and student ids of your team members below. **Make sure to submit only 1 solution to only 1 tutor.**\n",
    "\n",
    "- Anna Krasilnikova, 2562668\n",
    "- Mirza Misbah Mubeen Baig 2571567\n",
    "- Shahzain Mehboob 2571564\n"
   ]
  },
  {
   "cell_type": "markdown",
   "metadata": {},
   "source": [
    "---"
   ]
  },
  {
   "cell_type": "markdown",
   "metadata": {},
   "source": [
    "## Points: 0.0 of 30.0 points"
   ]
  }
 ],
 "metadata": {
  "kernelspec": {
   "display_name": "Python 3",
   "language": "python",
   "name": "python3"
  },
  "language_info": {
   "codemirror_mode": {
    "name": "ipython",
    "version": 3
   },
   "file_extension": ".py",
   "mimetype": "text/x-python",
   "name": "python",
   "nbconvert_exporter": "python",
   "pygments_lexer": "ipython3",
   "version": "3.6.6"
  },
  "widgets": {
   "application/vnd.jupyter.widget-state+json": {
    "state": {},
    "version_major": 2,
    "version_minor": 0
   }
  }
 },
 "nbformat": 4,
 "nbformat_minor": 2
}
