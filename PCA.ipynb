{
 "cells": [
  {
   "cell_type": "markdown",
   "metadata": {},
   "source": [
    "# PCA - Principle Component Analysis"
   ]
  },
  {
   "cell_type": "markdown",
   "metadata": {},
   "source": [
    "**Important:** For all implementations in this project, we make sure to use NumPy whenever possible. Most computations on vectors and matrices can be implemented very efficiently using the NumPy API. There is no need for looping over vectors etc. As a simple example, in order to compute the mean of a vector, just use `numpy.mean()`. If you are not familiar with NumPy please consult the NumPy tutorial that you find in the CMS under *Materials*. Further, in case of any doubts, the Forum is the best place to ask questions and discuss the project.  "
   ]
  },
  {
   "cell_type": "code",
   "execution_count": 1,
   "metadata": {},
   "outputs": [],
   "source": [
    "import itertools\n",
    "import numpy as np\n",
    "import pandas as pd\n",
    "import matplotlib.pyplot as plt\n",
    "%matplotlib inline"
   ]
  },
  {
   "cell_type": "markdown",
   "metadata": {},
   "source": [
    "---"
   ]
  },
  {
   "cell_type": "markdown",
   "metadata": {},
   "source": [
    "Features are our friends for prediction. For example, knowing the weight of a person is helpful for predicting his/her height. Knowing both the weight and age may improve the accuracy of our prediction. However, too many features could harm: each feature can be thought of as a dimension, $n$ features correspond to a $n$ dimensional space. In a high dimensional space ($n$ is very large), our data will distribute sparsely: if you draw unit grids in the space, the most of them will contain no data, which obstructs the learning process. This is called the *curse of dimensionality* (for more detail about the curse of dimensionality, see [here](http://www.visiondummy.com/2014/04/curse-dimensionality-affect-classification/)).\n",
    "\n",
    "\n",
    "To overcome the curse of dimensionality, we simply reduce the dimensionality (i.e. reduce the number of features). We can either select a subset of all features, or we can apply PCA on our dataset. By specifying a $d$ ($d$<$n$), PCA will project our $n$ dimensional data onto a $d$ dimensional (affine) space. The assumption is that classification/regression should be easier in this $d$ dimensional space.\n",
    "\n",
    "A tutorial of PCA can be found here: [PCA Tutorial](http://www.iro.umontreal.ca/~pift6080/H09/documents/papers/pca_tutorial.pdf) \n",
    "\n",
    "The goal is to apply PCA on a small dataset: [The Digits Dataset](https://scikit-learn.org/stable/modules/generated/sklearn.datasets.load_digits.html#sklearn.datasets.load_digits) "
   ]
  },
  {
   "cell_type": "markdown",
   "metadata": {},
   "source": [
    "#### 1.1. Data Normalization\n",
    "Before applying PCA to our data, we first need to center the features by subtracting the mean of each feature. That is, given a design matrix $X \\in \\mathbb{R}^{n \\times d}$ ($n$ samples, each with $d$ dimensional features), we apply the following formula:\n",
    "\n",
    "\\begin{equation*}\n",
    "  \\hat{x_{ij}} = x_{ij} - \\mu(x_i) \\textrm{ for } i = 1,\\cdots, d, j = 1,\\cdots,n\n",
    "\\end{equation*}\n",
    "\n",
    "where $\\mu(x_i)$ is the mean of the $i$-th column of $X$.\n",
    "\n",
    "**Question 1:** Is this centering step important regarding the performance of the PCA? What might happen if we don't center our data? (1 point)"
   ]
  },
  {
   "cell_type": "markdown",
   "metadata": {},
   "source": [
    "*Answer:* Computing the covariance matrix implicitly performs centering, and since variance by definition, is the average squared deviation from the mean, centered and non-centered data will have identical covariance matrices (basically, we get covaiance matrix and from there eigen-decomposition). In this case, centering does not make any difference.\n",
    "However, in some cases, centering data might help to get rid of the intercept in regression. Overall it means following: centering data does not alter the slope of regression line, but untercept becomes zero.\n",
    "In the other case not centering data will lead to the situation when the first principal component may pierce the cloud not along the main direction of the cloud, and will be (for statistics purposes) misleading.\n"
   ]
  },
  {
   "cell_type": "markdown",
   "metadata": {},
   "source": [
    "**Task 1:** Implement the following function which performs data normalization (i.e. normalize the columns of $X$) according to the description above. (1 point)"
   ]
  },
  {
   "cell_type": "code",
   "execution_count": 2,
   "metadata": {},
   "outputs": [],
   "source": [
    "def data_normalization(data):\n",
    "    # TODO: implement\n",
    "    meanVal = np.mean(data_matrix,axis=0) #mean by column\n",
    "    data_normalized=data_matrix-meanVal\n",
    "    return data_normalized"
   ]
  },
  {
   "cell_type": "markdown",
   "metadata": {},
   "source": [
    "#### 1.2  Apply PCA on Digits Dataset\n",
    "In the following we will apply PCA on the digits dataset from sklearn. This dataset consists of 1797 images of size 8X8, each images contain a handwritten digit (0-9).\n",
    "The digits look as follows:\n",
    "![Image of digits](https://scikit-learn.org/stable/_images/sphx_glr_plot_digits_classification_001.png)"
   ]
  },
  {
   "cell_type": "code",
   "execution_count": 3,
   "metadata": {},
   "outputs": [],
   "source": [
    "# import the digits dataset\n",
    "from sklearn import datasets"
   ]
  },
  {
   "cell_type": "code",
   "execution_count": 4,
   "metadata": {},
   "outputs": [],
   "source": [
    "# perform data normalization\n",
    "data_matrix = datasets.load_digits().data\n",
    "targets = datasets.load_digits().target\n",
    "data_normalized = data_normalization(data_matrix)"
   ]
  },
  {
   "cell_type": "markdown",
   "metadata": {},
   "source": [
    "Before applying PCA, let's take a look on a subset of original features and analyse whether they are discriminative for digits classification.\n",
    "\n",
    "**Task 2:** Implement the following using matplotlib: (2 points)\n",
    "1. Construct a 2D scatter plot. Plot the value of feature 0 (on $x$ axis) and feature 2 (on $y$ axis) for each data point, use different colors indicating different classes. \n",
    "2. Set corresponding labels: assign label \"feature 0\" for $x$ axis and \"feature 2\" for $y$ axis.\n",
    "3. Set the title of the plot as \"A subset of original features\".\n",
    "4. Show legends for each class.\n",
    "5. After you have finished the first four steps and plotted the graph, you might observe that many data points overlap. This is because many data points have exactly the same value w.r.t. feature 0 and feature 2. In order to have a better visualization, please jitter the data points in your scatter plot, this step is called jittering. For more details about jittering, see [here](https://stats.stackexchange.com/questions/253009/why-jitter-continuous-value-in-a-scatterplot).\n",
    "\n"
   ]
  },
  {
   "cell_type": "code",
   "execution_count": 5,
   "metadata": {},
   "outputs": [
    {
     "name": "stderr",
     "output_type": "stream",
     "text": [
      "No handles with labels found to put in legend.\n"
     ]
    },
    {
     "data": {
      "text/plain": [
       "<matplotlib.legend.Legend at 0x117a9bbe0>"
      ]
     },
     "execution_count": 5,
     "metadata": {},
     "output_type": "execute_result"
    },
    {
     "data": {
      "image/png": "[encoded data removed]",
      "text/plain": [
       "<Figure size 432x288 with 1 Axes>"
      ]
     },
     "metadata": {
      "needs_background": "light"
     },
     "output_type": "display_data"
    }
   ],
   "source": [
    "# TODO: Construct a 2D scatter plot\n",
    "x = data_normalized[:,0] \n",
    "y = data_normalized[:,2]\n",
    "plt.xlabel(\"0 features\")\n",
    "plt.ylabel(\"2 features\")\n",
    "\n",
    "plt.scatter(x,y,c=targets)\n",
    "plt.title('A subset of original features')\n",
    "plt.legend(loc = 'upper right')"
   ]
  },
  {
   "cell_type": "markdown",
   "metadata": {},
   "source": [
    "**Question 2:** What is the dimensionality of the new feature space? Is is easy to perform digit classification in this feature space? Justify your answer. (1 point)"
   ]
  },
  {
   "cell_type": "markdown",
   "metadata": {},
   "source": [
    "*Answer:* Each feature can be thought of as a \"dimension\" of the problem in the feature space. (e.g.3D feature space can be represented as following: \"The authorship of\n",
    "12 of those papers are disputed between Hamilton/Madison. Using the frequency of use for 3 words as features, we can consider each of the documents a “point” in 3D feature space\" (c) - example taknen from http://pages.cs.wisc.edu, \"feature space\" lecture. Another example would be the human face. We can describe it by combination of characteristics s.t.:\n",
    "skin color, represented as value describing the concentration of the certain pigment;\n",
    "hair color;\n",
    "distance between nose and the mouth;\n",
    "eyes color;\n",
    "distance between the eyes;\n",
    "head height and width, etc. \n",
    "In this case we can say that we can describe a human face using 7-dimensional feature vector.\n",
    "I's rather straightforward if one is using supervised classification. We can select pixels to represent patterns or land the cover features. The main problem of classification in the case of multiple feature spaces or sources has been mostly dealt with in the past by ensemble learning methods (combinations of individual classifiers). Thus, we have to train one classifier in every feature space and then combine their class predictive distributions (\"Combining feature spaces for classification\", T.Damoulas, M. A. Girolami)."
   ]
  },
  {
   "cell_type": "markdown",
   "metadata": {},
   "source": [
    "**Task 3:** Implement the function `PCA()` below. The input of this function is a normalized dataset and a parameter $d$, which specifies the output dimension (dimension of the projected space). The output should be a dataset/matrix of $\\mathbb{R}^{n \\times d}$. (Hint: `numpy.linalg.eig()` might be helpful here.) (4 points)"
   ]
  },
  {
   "cell_type": "code",
   "execution_count": 6,
   "metadata": {},
   "outputs": [],
   "source": [
    "def PCA(data, d):\n",
    "    \"\"\"\n",
    "    perform PCA on a dataset\n",
    "    :param data: input dataset with shape (n,k).\n",
    "    :param d: dimension of the output space.\n",
    "    :return: a matrix of shape (n,d). where each row represents the (PCA) projection of each data point.\n",
    "    \"\"\"\n",
    "    # TODO: implement\n",
    "    # REMARK: note the eigenvalues/eigenvectors returned by np.linalg.eig() might not be ordered. You may want to order them first. \n",
    "    \n",
    "    meanVal=np.mean(data_matrix,axis=0) #mean by column\n",
    "    \n",
    "    covMat=np.cov(data_normalized,rowvar=0)\n",
    "    \n",
    "    eigVals,eigVects=np.linalg.eig(np.mat(covMat))\n",
    "    \n",
    "    eigValIndice=np.argsort(eigVals,axis=0) \n",
    "    \n",
    "    n_eigValIndice=eigValIndice[-1:-(d+1):-1]\n",
    "    \n",
    "    n_eigVect=eigVects[:,n_eigValIndice]\n",
    "    \n",
    "    lowDDataMat=data_normalized*n_eigVect\n",
    "    \n",
    "    reconMat=(lowDDataMat*n_eigVect.T)+meanVal\n",
    "    \n",
    "    return lowDDataMat,reconMat"
   ]
  },
  {
   "cell_type": "markdown",
   "metadata": {},
   "source": [
    "**Task 4:** Apply `PCA()` on the normalized dataset using $d=2$, then construct a 2D scatter plot presenting the data points in the projected space. (2 points)\n",
    "\n",
    "Requirements for the 2D scatter plot:\n",
    "1. Plot the value of the first principle components (on $x$ axis) and the second principle components (on $y$ axis) of each data point, use different colors for each class. \n",
    "2. Set corresponding labels: assign label \"first principle component\" for $x$ axis and \"second principle component\" for $y$ axis.\n",
    "3. Set the title of the plot as \"2 component PCA\".\n",
    "4. Add legends for each class.\n"
   ]
  },
  {
   "cell_type": "code",
   "execution_count": 7,
   "metadata": {},
   "outputs": [],
   "source": [
    "# TODO: perform PCA on mean centered dataset\n",
    "d=2\n",
    "data=data_normalized\n",
    "pca=PCA(data,d)\n",
    "lowDDataMat,reconMat=pca"
   ]
  },
  {
   "cell_type": "code",
   "execution_count": 8,
   "metadata": {
    "scrolled": true
   },
   "outputs": [
    {
     "name": "stderr",
     "output_type": "stream",
     "text": [
      "No handles with labels found to put in legend.\n"
     ]
    },
    {
     "data": {
      "text/plain": [
       "Text(0.5, 1.0, '2 component PCA')"
      ]
     },
     "execution_count": 8,
     "metadata": {},
     "output_type": "execute_result"
    },
    {
     "data": {
      "image/png": "[encoded data removed]",
      "text/plain": [
       "<Figure size 432x288 with 1 Axes>"
      ]
     },
     "metadata": {
      "needs_background": "light"
     },
     "output_type": "display_data"
    }
   ],
   "source": [
    "# TODO: Construct a 2D scatter plot\n",
    "x1=reconMat[:,0]\n",
    "y1=reconMat[:,1]\n",
    "plt.xlabel(\"First principle component\")\n",
    "plt.ylabel(\"Second principle component\")\n",
    "plt.scatter(x1.tolist(),y1.tolist(),marker='o',color='red',s=100)\n",
    "plt.legend(loc = 'upper right')\n",
    "plt.title('2 component PCA')"
   ]
  },
  {
   "cell_type": "markdown",
   "metadata": {},
   "source": [
    "**Question 3:** Is it easier to perform classification on the transformed space? Justify your answer. (1 point)"
   ]
  },
  {
   "cell_type": "markdown",
   "metadata": {},
   "source": [
    "*Answer:* It is not easier. The general idea of is to transform the non-linear separable input data into another (high-dimensional) space. Linear decision boundary can separate positive and negative examples in the transformed space. So the problem might occur when we have complex high-dimensional data, sinc it's difficult to figure out its structure and to come up with simple linearizatin mapping. Hence, it's important to have a classifier which was trained on transformed data."
   ]
  },
  {
   "cell_type": "markdown",
   "metadata": {},
   "source": [
    "**Question 4:** Now, modify the function  `data_normalization()` you implemented above: in additional to centering, divide each feature/column by its standard deviation. Then apply `PCA()` on this standardized data. Does the performance of PCA improve? Describe your findings (instead of modifying the original function you implemented above, please implement it again in the cell below). (2 points)\n",
    "\n",
    "***Remark:*** One problem could occur when you divide the feature by its standard deviation: the standard deviation might be zero and division by zero is undefined. However, a standard deviation of zero can only be possible when all the values of a feature/column are the same (all equal to the mean). In this case, those features have no discriminative power so they can be removed from the analysis. Your implementation should be able to handle this case: all columns with zero standard deviation should be removed before standardize the data."
   ]
  },
  {
   "cell_type": "code",
   "execution_count": 9,
   "metadata": {},
   "outputs": [],
   "source": [
    "def data_normalization_modified(data):\n",
    "    # TODO: implement\n",
    "    data_transpose = data.T \n",
    "    df = pd.DataFrame(data_transpose)                                         \n",
    "    \n",
    "    # Check for equally valued columns\n",
    "    col_mat = np.invert(np.all(data == data[0,:], axis = 0)) \n",
    "    indices = col_mat.tolist()\n",
    "    df = df.loc[indices, :]                                   \n",
    "    data_new = df.as_matrix()                                     \n",
    "    \n",
    "    normalized_data = data_normalization(data_new.T)                      \n",
    "    normalized_data_transpose = normalized_data.T                                   \n",
    "    std = np.std(normalized_data_transpose, axis=1)[:,None]                           \n",
    "    new_data_normalized = norma / std \n",
    "    \n",
    "    return new_data_normalized\n"
   ]
  },
  {
   "cell_type": "markdown",
   "metadata": {},
   "source": [
    "*Answer:* In general, standartizatin process made the data less scaterred and easier in terms of distinguishing classes for each feature variance (since it becomes 1).\n"
   ]
  },
  {
   "cell_type": "markdown",
   "metadata": {},
   "source": [
    "Finally, consider and the following (artificially generated) dataset:"
   ]
  },
  {
   "cell_type": "code",
   "execution_count": 10,
   "metadata": {},
   "outputs": [
    {
     "data": {
      "image/png": "[encoded data removed]",
      "text/plain": [
       "<Figure size 504x504 with 1 Axes>"
      ]
     },
     "metadata": {
      "needs_background": "light"
     },
     "output_type": "display_data"
    }
   ],
   "source": [
    "x = np.random.normal(loc=0.0, scale=2.0, size=100)\n",
    "y = np.random.binomial(1, 0.5, size=100) - 0.5\n",
    "\n",
    "fig = plt.figure(figsize = (7, 7))\n",
    "ax = fig.add_subplot(1,1,1) \n",
    "ax.set_xlabel('feature 0', fontsize = 15)\n",
    "ax.set_ylabel('feature 1', fontsize = 15)\n",
    "ax.scatter(x,y,s = 10);"
   ]
  },
  {
   "cell_type": "markdown",
   "metadata": {},
   "source": [
    "**Question 5:** Is PCA suitable for the above dataset? Justify your answer. (1 point)"
   ]
  },
  {
   "cell_type": "markdown",
   "metadata": {},
   "source": [
    "*Answer:* PCA is by all means applicable, but not quite suitable to the given dataset in terms of classification. Of course, this classificationwill reduce the dimension, but having non-correlated features will make it unsuitable."
   ]
  }
 ],
 "metadata": {
  "kernelspec": {
   "display_name": "Python 3",
   "language": "python",
   "name": "python3"
  },
  "language_info": {
   "codemirror_mode": {
    "name": "ipython",
    "version": 3
   },
   "file_extension": ".py",
   "mimetype": "text/x-python",
   "name": "python",
   "nbconvert_exporter": "python",
   "pygments_lexer": "ipython3",
   "version": "3.6.6"
  },
  "widgets": {
   "application/vnd.jupyter.widget-state+json": {
    "state": {},
    "version_major": 2,
    "version_minor": 0
   }
  }
 },
 "nbformat": 4,
 "nbformat_minor": 2
}
