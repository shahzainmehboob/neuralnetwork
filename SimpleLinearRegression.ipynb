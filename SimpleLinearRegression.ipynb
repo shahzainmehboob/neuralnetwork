{
 "cells": [
  {
   "cell_type": "markdown",
   "metadata": {},
   "source": [
    "Linear Regression"
   ]
  },
  {
   "cell_type": "markdown",
   "metadata": {},
   "source": [
    "## Introduction"
   ]
  },
  {
   "cell_type": "markdown",
   "metadata": {},
   "source": [
    "The goal is to make you familiar with deep learning and in order to do so we will implement a very naive algorithm to solve a **linear regression** problem: **Grid Search**."
   ]
  },
  {
   "cell_type": "markdown",
   "metadata": {
    "collapsed": true
   },
   "source": [
    "## Linear Regression"
   ]
  },
  {
   "cell_type": "markdown",
   "metadata": {},
   "source": [
    "Linear regression is one of the simplest and also most widely used machine learning algorithms. It is used to model the relationship between a dependent variable $y$ and one or more independent (also called explanatory) variables $x$. Here, we will focus on the case where we just have a single indepenedent variable, so-called **simple linear regression**."
   ]
  },
  {
   "cell_type": "markdown",
   "metadata": {},
   "source": [
    "Given some inputs $x = \\{x_0, \\dots, x_n\\}$ and corresponding outputs $y = \\{y_0, \\dots, y_n\\}$. Linear regression assumes that there exists an (unknown!) linear relationship between the input and the output, i.e."
   ]
  },
  {
   "cell_type": "markdown",
   "metadata": {},
   "source": [
    "$$y = f(x) = \\beta_0 + \\beta_1x + \\epsilon$$"
   ]
  },
  {
   "cell_type": "markdown",
   "metadata": {},
   "source": [
    "where $\\epsilon$ is an unobserved noise variable. This relationship is approximated as"
   ]
  },
  {
   "cell_type": "markdown",
   "metadata": {},
   "source": [
    "$$\\hat{y} = \\hat{f}(x; w_0, w_1) = w_0 + w_1x$$."
   ]
  },
  {
   "cell_type": "markdown",
   "metadata": {},
   "source": [
    "Hence, the goal of linear regression is to estimate the unknown parameters $w_0$ and $w_1$ such that the error between the model prediction $\\hat{y}$ and the true output $y$ is minimized. Formaly, let the ith **residual** be"
   ]
  },
  {
   "cell_type": "markdown",
   "metadata": {},
   "source": [
    "$$r_i = y_i - \\hat{f}(x_i; w_0, w_1)$$"
   ]
  },
  {
   "cell_type": "markdown",
   "metadata": {},
   "source": [
    "i.e. the difference between the ith output and the ith prediction and let"
   ]
  },
  {
   "cell_type": "markdown",
   "metadata": {},
   "source": [
    "$$S = \\sum\\limits_{i=1}^n r_i^2$$"
   ]
  },
  {
   "cell_type": "markdown",
   "metadata": {},
   "source": [
    "be the sum of squared residuals. Then one tries to find the paramaters $w_0$ and $w_1$ that minimize"
   ]
  },
  {
   "cell_type": "markdown",
   "metadata": {},
   "source": [
    "$$MSE = \\frac{1}{n}~S$$"
   ]
  },
  {
   "cell_type": "markdown",
   "metadata": {},
   "source": [
    "the so called **mean squared error**."
   ]
  },
  {
   "cell_type": "markdown",
   "metadata": {},
   "source": [
    "### 1. Fitting a Linear Regression Model"
   ]
  },
  {
   "cell_type": "markdown",
   "metadata": {},
   "source": [
    "In this part we will implement several functions which will help you to fit a simple linear regression model on training data using grid search."
   ]
  },
  {
   "cell_type": "markdown",
   "metadata": {},
   "source": [
    "#### Implement a loss function which measures the average squared difference between the true data and the model prediction, i.e the mean squared error (MSE)."
   ]
  },
  {
   "cell_type": "code",
   "execution_count": 1,
   "metadata": {},
   "outputs": [],
   "source": [
    "# We will make use of numpy to vectorize most of the computations\n",
    "import numpy as np"
   ]
  },
  {
   "cell_type": "code",
   "execution_count": 3,
   "metadata": {},
   "outputs": [],
   "source": [
    "def loss(y, prediction):\n",
    "    \"\"\"\n",
    "    :param y: The true outputs\n",
    "    :param prediction: The predictions of your model\n",
    "    :return: The MSE between the model predictions and the true outputs\n",
    "    \"\"\"\n",
    "    error = y - prediction\n",
    "    mse = (error * error).sum() * 1 / y.size\n",
    "    \n",
    "    return mse\n"
   ]
  },
  {
   "cell_type": "markdown",
   "metadata": {},
   "source": [
    "#### Now implement a function which describes a linear relationship between the input and output."
   ]
  },
  {
   "cell_type": "code",
   "execution_count": 4,
   "metadata": {},
   "outputs": [],
   "source": [
    "def linear_model(intercept, slope, x):\n",
    "    \"\"\"\n",
    "    :param intercept: The model intercept\n",
    "    :param slope: The model slope\n",
    "    :return: The model prediction on x\n",
    "    \"\"\"\n",
    "    prediction = slope * x + intercept\n",
    "    return prediction\n"
   ]
  },
  {
   "cell_type": "markdown",
   "metadata": {},
   "source": [
    "#### Given different values for the slope and the intercept of your model. Implement a function which returns those that result in the best fit, i.e. minimizes the difference between the true data and the model prediction."
   ]
  },
  {
   "cell_type": "code",
   "execution_count": 6,
   "metadata": {},
   "outputs": [],
   "source": [
    "def grid_search(intercepts, slopes, x, y):\n",
    "    \"\"\"\n",
    "    :param intercepts: A numpy array of different intercepts\n",
    "    :param slopes: A numpy array of different slopes\n",
    "    :param x: The inputs\n",
    "    :param y: The true outputs\n",
    "    :return (intercept, slope): The intercept and slope that result in the best fit\n",
    "    \"\"\"\n",
    "    bestIntercept, bestSlope = 0, 0;\n",
    "    lowestError = np.inf;\n",
    "    \n",
    "    for i in range(0, intercepts.size):\n",
    "        for j in range(0, slopes.size):\n",
    "            error = loss(y, linear_model(intercepts[i, 0], slopes[j, 0], x))\n",
    "            if(error < lowestError):\n",
    "                lowestError = error\n",
    "                bestIntercept = intercepts[i, 0]\n",
    "                bestSlope = slopes[j, 0]\n",
    "    print ('Error: ', lowestError)\n",
    "    \n",
    "    return (bestIntercept, bestSlope)\n"
   ]
  },
  {
   "cell_type": "markdown",
   "metadata": {},
   "source": [
    "#### Now Fit a linear model over some training data and plot the resulting model using matplotlib."
   ]
  },
  {
   "cell_type": "code",
   "execution_count": 7,
   "metadata": {},
   "outputs": [],
   "source": [
    "# We will use the datasets functionality provided by sklearn to generate some training data\n",
    "from sklearn.datasets import make_regression, make_classification\n",
    "\n",
    "# Let's create some training data to fit our model on\n",
    "x_train, y_train = make_regression(n_samples=50, n_features=1, n_informative=1, noise=30.0)\n",
    "y_train = y_train[:, None] #  make y a column vector"
   ]
  },
  {
   "cell_type": "code",
   "execution_count": 8,
   "metadata": {},
   "outputs": [],
   "source": [
    "# This is the test data on which we want to evaluate our fitted model\n",
    "x_test = np.linspace(start=-4, stop=4, num=20)\n",
    "x_test = x_test[:, None] #  make x_test a column vector"
   ]
  },
  {
   "cell_type": "code",
   "execution_count": 9,
   "metadata": {},
   "outputs": [],
   "source": [
    "# These are the different values for the intercept and slope on which we want to perform a gridsearch\n",
    "intercepts = np.linspace(start=-10.0, stop=10.0, num=50)\n",
    "intercepts = intercepts[:, None] #  make intercepts a column vector\n",
    "slopes = np.linspace(start=0.0, stop=100.0, num=50)\n",
    "slopes = slopes[:, None] #  make slopes a column vector"
   ]
  },
  {
   "cell_type": "markdown",
   "metadata": {},
   "source": [
    "**Write code to fit a linear model on $x_{train}$.**"
   ]
  },
  {
   "cell_type": "code",
   "execution_count": 11,
   "metadata": {},
   "outputs": [
    {
     "name": "stdout",
     "output_type": "stream",
     "text": [
      "Error:  1208.4581495836583\n",
      "Intercept:  1.8367346938775508\n",
      "Slope:  10.204081632653061\n"
     ]
    }
   ],
   "source": [
    "bestIntercept, bestSlope = grid_search(intercepts, slopes, x_train, y_train)\n",
    "print('Intercept: ', bestIntercept)\n",
    "print('Slope: ', bestSlope)"
   ]
  },
  {
   "cell_type": "markdown",
   "metadata": {},
   "source": [
    "**Complete the code below to plot the training data together with the fitted linear model.**"
   ]
  },
  {
   "cell_type": "code",
   "execution_count": 17,
   "metadata": {},
   "outputs": [
    {
     "data": {
      "image/png": "[encoded data removed]",
      "text/plain": [
       "<Figure size 432x288 with 1 Axes>"
      ]
     },
     "metadata": {
      "needs_background": "light"
     },
     "output_type": "display_data"
    }
   ],
   "source": [
    "%matplotlib inline\n",
    "import matplotlib.pyplot as plt\n",
    "\n",
    "# Create a matplotlib figure for the training data and our fitted linear regression model\n",
    "fig, axes = plt.subplots(1, 1)\n",
    "axes.scatter(x_train, y_train, color='blue', marker='.', alpha=.6, s=2e2, label='Training Data')\n",
    "axes.legend(loc='upper left');\n"
   ]
  }
 ],
 "metadata": {
  "kernelspec": {
   "display_name": "Python 3",
   "language": "python",
   "name": "python3"
  },
  "language_info": {
   "codemirror_mode": {
    "name": "ipython",
    "version": 3
   },
   "file_extension": ".py",
   "mimetype": "text/x-python",
   "name": "python",
   "nbconvert_exporter": "python",
   "pygments_lexer": "ipython3",
   "version": "3.6.6"
  }
 },
 "nbformat": 4,
 "nbformat_minor": 2
}
